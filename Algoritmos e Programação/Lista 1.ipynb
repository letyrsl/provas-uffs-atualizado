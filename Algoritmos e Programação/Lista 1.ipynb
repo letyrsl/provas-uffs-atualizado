{
  "nbformat": 4,
  "nbformat_minor": 0,
  "metadata": {
    "colab": {
      "provenance": []
    },
    "kernelspec": {
      "name": "python3",
      "display_name": "Python 3"
    }
  },
  "cells": [
    {
      "cell_type": "markdown",
      "metadata": {
        "id": "a8p7yHUrtk04"
      },
      "source": [
        "1- Mostrar a média aritmética entre 3 números passados pelo usuário.\n",
        "EX:\n",
        "3\n",
        "4\n",
        "5\n",
        "Média: 4.0\n"
      ]
    },
    {
      "cell_type": "code",
      "metadata": {
        "id": "OfP-GOdJL5uH",
        "colab": {
          "base_uri": "https://localhost:8080/"
        },
        "outputId": "1db4781f-bb9a-436b-c9ac-bf96b970c4de"
      },
      "source": [
        "v1 = float(input(\"Digite o primeiro valor: \"))\n",
        "v2 = float(input(\"Digite o segundo valor: \"))\n",
        "v3 = float(input(\"Digite o terceiro valor: \"))\n",
        "\n",
        "resultado = (v1 + v2 + v3)/3\n",
        "\n",
        "print(f\"\\nA média entre os três valores é {resultado}\")"
      ],
      "execution_count": null,
      "outputs": [
        {
          "output_type": "stream",
          "text": [
            "Digite o primeiro valor: 3\n",
            "Digite o segundo valor: 4\n",
            "Digite o terceiro valor: 5\n",
            "\n",
            "A média entre os três valores é 4.0\n"
          ],
          "name": "stdout"
        }
      ]
    },
    {
      "cell_type": "markdown",
      "metadata": {
        "id": "LJGy776YtjMT"
      },
      "source": [
        "2- Leia um número e mostre seu sucessor e seu antecessor na tela.\n",
        "Ex:\n",
        "5\n",
        "Antecessor: 4\n",
        "Sucessor: 6\n"
      ]
    },
    {
      "cell_type": "code",
      "metadata": {
        "id": "p1jq4755tjAS",
        "colab": {
          "base_uri": "https://localhost:8080/"
        },
        "outputId": "eaf9bad0-9f94-4e69-ecba-7573515592f0"
      },
      "source": [
        "nro = int(input(\"Digite um número inteiro: \"))\n",
        "\n",
        "antecessor = nro - 1\n",
        "sucessor = nro + 1\n",
        "\n",
        "print(f\"\\nNúmero: {nro}; Antecessor: {antecessor}; Sucessor: {sucessor}\")"
      ],
      "execution_count": null,
      "outputs": [
        {
          "output_type": "stream",
          "text": [
            "Digite um número inteiro: 5\n",
            "\n",
            "Número: 5; Antecessor: 4; Sucessor: 6\n"
          ],
          "name": "stdout"
        }
      ]
    },
    {
      "cell_type": "markdown",
      "metadata": {
        "id": "QJe7T6zZtoKM"
      },
      "source": [
        "3- Leia dois números e mostre a soma. Ante do resultado, deverá aparecer a mensagem conforme abaixo:\n",
        "\n",
        "> Bloco com recuo\n",
        "\n",
        "> Bloco com recuo\n",
        "\n",
        "\n",
        "\n",
        "\n",
        "EX:\n",
        "3\n",
        "4\n",
        "Soma: 7\n"
      ]
    },
    {
      "cell_type": "code",
      "metadata": {
        "id": "_6glyWa7tojf",
        "colab": {
          "base_uri": "https://localhost:8080/"
        },
        "outputId": "81a29814-ea0a-4f25-8ee0-9440497e1826"
      },
      "source": [
        "v1 = float(input(\"Digite o primeiro valor: \"))\n",
        "v2 = float(input(\"Digite o segundo valor: \"))\n",
        "\n",
        "soma = v1 + v2\n",
        "\n",
        "print(f\"\\n\\nSoma de {v1} e {v2} = {soma}\")"
      ],
      "execution_count": null,
      "outputs": [
        {
          "output_type": "stream",
          "text": [
            "Digite o primeiro valor: 3\n",
            "Digite o segundo valor: 4\n",
            "\n",
            "\n",
            "Soma de 3.0 e 4.0 = 7.0\n"
          ],
          "name": "stdout"
        }
      ]
    },
    {
      "cell_type": "markdown",
      "metadata": {
        "id": "2M3y3TpStuqX"
      },
      "source": [
        "4-Leia um número e mostre a terça parte deste número.\n",
        "EX:\n",
        "9\n",
        "Resultado:3\n"
      ]
    },
    {
      "cell_type": "code",
      "metadata": {
        "id": "P1bg_a58tuIb",
        "colab": {
          "base_uri": "https://localhost:8080/"
        },
        "outputId": "cbdc797d-246d-4681-c2b1-79eadf65c307"
      },
      "source": [
        "nro = float(input(\"Digite um número: \"))\n",
        "\n",
        "resultado = nro/3\n",
        "\n",
        "print(f\"\\nA terça parte de {nro} é {resultado}\")"
      ],
      "execution_count": null,
      "outputs": [
        {
          "output_type": "stream",
          "text": [
            "Digite um número: 18\n",
            "\n",
            "A terça parte de 18.0 é 6.0\n"
          ],
          "name": "stdout"
        }
      ]
    },
    {
      "cell_type": "markdown",
      "metadata": {
        "id": "f-70gZCttw4S"
      },
      "source": [
        "5- Faça um algoritmo que converta um montante em real para dólar, para tal peça o valor em real que se deseja converter e a cotação atual.\n",
        "EX:\n",
        "10,00\n",
        "5,80\n",
        "Resultado: 1,72\n"
      ]
    },
    {
      "cell_type": "code",
      "metadata": {
        "id": "faNrB6UgtwdT",
        "colab": {
          "base_uri": "https://localhost:8080/"
        },
        "outputId": "d8f9991b-654c-4862-e308-4ce12c483308"
      },
      "source": [
        "real = float(input(\"Digite o valor em real: \"))\n",
        "cotacao = float(input(\"Digite a cotação atual do dólar: \"))\n",
        "\n",
        "dolar = real / cotacao\n",
        "\n",
        "print(f\"\\n{real} reais, atualmente, estão {round(dolar, 2)} dólares\")"
      ],
      "execution_count": null,
      "outputs": [
        {
          "output_type": "stream",
          "text": [
            "Digite o valor em real: 10\n",
            "Digite a cotação atual do dólar: 5.8\n",
            "\n",
            "10.0 reais, atualmente, estão 1.72 dólares\n"
          ],
          "name": "stdout"
        }
      ]
    },
    {
      "cell_type": "markdown",
      "metadata": {
        "id": "lQgwgtxft432"
      },
      "source": [
        "A máquina 1 produz 1 poste por dia, a máquina 2 produz 3 e a máquina 3 produz 2,5.  Faça um programa que calcule o número de postes produzidos por esta usina para uma quantidade de dias informada.\n",
        "\n",
        "\n"
      ]
    },
    {
      "cell_type": "code",
      "metadata": {
        "id": "gDd2FC21t5Fu",
        "colab": {
          "base_uri": "https://localhost:8080/"
        },
        "outputId": "a1d245db-c45f-430f-d825-02b7db4e6ae5"
      },
      "source": [
        "dias = int(input(\"Digite a quantidade de dias: \"))\n",
        "\n",
        "maq1 = 1 * dias\n",
        "maq2 = 3 * dias\n",
        "maq3 = 2.5 * dias\n",
        "\n",
        "resultado = maq1 + maq2 + maq3\n",
        "\n",
        "print(f\"\\nEssa usina produz {int(resultado)} postes em {dias} dias.\")"
      ],
      "execution_count": null,
      "outputs": [
        {
          "output_type": "stream",
          "text": [
            "Digite a quantidade de dias: 4\n",
            "\n",
            "Essa usina produz 26 postes em 4 dias.\n"
          ],
          "name": "stdout"
        }
      ]
    },
    {
      "cell_type": "markdown",
      "metadata": {
        "id": "gf0lidkJt7gf"
      },
      "source": [
        "O professor gostaria de ter um algoritmo para calcular a média da disciplina Algoritmos.  Ele aplica 3 provas, sendo que a primeira tem peso 3, a segunda peso 2 e a terceira peso 5.\n",
        "EX:\n",
        "7\n",
        "8\n",
        "6\n",
        "Média: 6.7"
      ]
    },
    {
      "cell_type": "code",
      "metadata": {
        "id": "Sks1juKBt8JK",
        "colab": {
          "base_uri": "https://localhost:8080/"
        },
        "outputId": "fc01c100-c9fb-4beb-8eea-ad233cc1b851"
      },
      "source": [
        "nota1 = float(input(\"Digite a nota da primeira prova: \"))\n",
        "nota2 = float(input(\"Digite a nota da segunda prova: \"))\n",
        "nota3 = float(input(\"Digite a nota da terceira prova: \"))\n",
        "\n",
        "notaFinal = ((nota1 * 3) + (nota2 * 2) + (nota3 * 5))/10\n",
        "\n",
        "print(f\"\\nA média final do aluno é {notaFinal}\")"
      ],
      "execution_count": null,
      "outputs": [
        {
          "output_type": "stream",
          "text": [
            "Digite a nota da primeira prova: 7\n",
            "Digite a nota da segunda prova: 8\n",
            "Digite a nota da terceira prova: 6\n",
            "\n",
            "A média final do aluno é 6.7\n"
          ],
          "name": "stdout"
        }
      ]
    },
    {
      "cell_type": "markdown",
      "metadata": {
        "id": "X6uP65oBt8bo"
      },
      "source": [
        "DESAFIO-Opcional:  Os salários dos funcionários da empresa ABC são calculados da seguinte forma: deve-se pedir o número de horas trabalhadas no mês e o valor da hora. Com esses valores calcula-se o salário bruto.  Para calcular o salário líquido deve descontar: 8% de INSS, 12% de imposto de renda e o total de adiantamentos feitos ao funcionário. Faça um programa que descreva o algoritmo para resolver este problema.\n"
      ]
    },
    {
      "cell_type": "code",
      "metadata": {
        "id": "18rzLTvJt_TF",
        "colab": {
          "base_uri": "https://localhost:8080/"
        },
        "outputId": "00a804f9-3a2e-4aef-ce39-ec874c1a3672"
      },
      "source": [
        "horasTrabalhadas = int(input(\"Digite a quantidade de horas trabalhadas no mês: \"))\n",
        "valorHora = float(input(\"Digite o valor da hora: \"))\n",
        "\n",
        "sBruto = horasTrabalhadas * valorHora\n",
        "sLiquido = sBruto - (sBruto * 0.08) - (sBruto * 0.12)\n",
        "\n",
        "print(f\"\\nO salário líquido resultou em {sLiquido}\")"
      ],
      "execution_count": null,
      "outputs": [
        {
          "output_type": "stream",
          "text": [
            "Digite a quantidade de horas trabalhadas no mês: 100\n",
            "Digite o valor da hora: 10\n",
            "\n",
            "O salário líquido resultou em 800.0\n"
          ],
          "name": "stdout"
        }
      ]
    }
  ]
}