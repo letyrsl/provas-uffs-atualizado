{
  "nbformat": 4,
  "nbformat_minor": 0,
  "metadata": {
    "colab": {
      "provenance": [],
      "include_colab_link": true
    },
    "kernelspec": {
      "name": "python3",
      "display_name": "Python 3"
    }
  },
  "cells": [
    {
      "cell_type": "markdown",
      "metadata": {
        "id": "view-in-github",
        "colab_type": "text"
      },
      "source": [
        "<a href=\"https://colab.research.google.com/github/letyrsl/provas-uffs-atualizado/blob/main/lista2_leticia.ipynb\" target=\"_parent\"><img src=\"https://colab.research.google.com/assets/colab-badge.svg\" alt=\"Open In Colab\"/></a>"
      ]
    },
    {
      "cell_type": "markdown",
      "metadata": {
        "id": "bpRge3gOLzNu"
      },
      "source": [
        "1 - Faça um programa que leia o raio de um círculo (float) e, em seguida, calcule e exiba os seguintes valores referentes a este círculo:\n",
        "- Diâmetro\n",
        "- Área\n",
        "- Perímetro\n",
        "- Volume de uma esfera com este raio\n",
        "\n",
        "Exemplo de entrada:\n",
        "\n",
        "10.0\n",
        "\n",
        "Exemplo de saída:\n",
        "\n",
        "Diâmetro: 20.0\n",
        "\n",
        "Área: 314,15\n",
        "\n",
        "Perímetro: 62,83\n",
        "\n",
        "Volume: 4188.79"
      ]
    },
    {
      "cell_type": "code",
      "metadata": {
        "id": "9Np2OAXa3UHL",
        "colab": {
          "base_uri": "https://localhost:8080/"
        },
        "outputId": "d9569150-12be-4501-f6c4-65922d3c755e"
      },
      "source": [
        "raio = float(input(\"Raio do círculo: \"))\n",
        "\n",
        "diametro = raio * 2\n",
        "area = 3.14 * (raio**2)\n",
        "perimetro = 2*3.14 * raio\n",
        "volume = (4*3.14*(raio**3))/3\n",
        "\n",
        "print(f\"\\nDiâmetro: {round(diametro, 2)}\\n\\nÁrea: {round(area, 2)}\\n\\nPerímetro: {round(perimetro, 2)}\\n\\nVolume: {round(volume,2)}\")"
      ],
      "execution_count": null,
      "outputs": [
        {
          "output_type": "stream",
          "text": [
            "Raio do círculo: 40\n",
            "\n",
            "Diâmetro: 80.0\n",
            "\n",
            "Área: 5024.0\n",
            "\n",
            "Perímetro: 251.2\n",
            "\n",
            "Volume: 267946.67\n"
          ],
          "name": "stdout"
        }
      ]
    },
    {
      "cell_type": "markdown",
      "metadata": {
        "id": "VWdg-gsYtMjf"
      },
      "source": [
        "\n",
        "---\n",
        "2 - Escreva um algoritmo para ler o número total de eleitores de um município, o número de votos brancos, nulos e válidos. Calcular e escrever o percentual que cada um representa em relação ao total de eleitores.\n",
        "\n",
        "Exemplo de entrada:\n",
        "\n",
        "\n",
        "*   Digite o número total de eleitores:   1000\n",
        "*   Digite o número de votos brancos: 100\n",
        "*   Digite o total de nulos: 10\n",
        "*   Digite o total de válidos: 890\n",
        "\n",
        "Exemplo de saída:\n",
        "\n",
        "\n",
        "*   Porcentagem válidos: 89%\n",
        "*   Porcentagem nulos: 1%\n",
        "*   Porcentagem votos brancos: 10%"
      ]
    },
    {
      "cell_type": "code",
      "metadata": {
        "id": "XFj8ftNVtN72",
        "colab": {
          "base_uri": "https://localhost:8080/"
        },
        "outputId": "31f967b1-0fbc-4219-cbd5-ef2cb4477086"
      },
      "source": [
        "total = int(input(\"Informe o número total de eleitores do município: \"))\n",
        "votos_brancos = int(input(\"Informe o total de votos brancos: \"))\n",
        "votos_nulos = int(input(\"Informe o total de votos nulos: \"))\n",
        "votos_validos = int(input(\"Informe o total de votos validos: \"))\n",
        "\n",
        "porcentagem_validos = (100 * votos_validos)/total\n",
        "porcentagem_nulos = (100 * votos_nulos)/total\n",
        "porcentagem_brancos = (100 * votos_brancos)/total\n",
        "\n",
        "print(f\"\\nPorcentagem válidos: {round(porcentagem_validos, 2)}%\\nPorcentagem nulos: {round(porcentagem_nulos, 2)}%\\nPorcentagem votos brancos: {round(porcentagem_brancos, 2)}%\")"
      ],
      "execution_count": null,
      "outputs": [
        {
          "output_type": "stream",
          "text": [
            "Informe o número total de eleitores do município: 1000\n",
            "Informe o total de votos brancos: 100\n",
            "Informe o total de votos nulos: 10\n",
            "Informe o total de votos validos: 890\n",
            "\n",
            "Porcentagem válidos: 89.0%\n",
            "Porcentagem nulos: 1.0%\n",
            "Porcentagem votos brancos: 10.0%\n"
          ],
          "name": "stdout"
        }
      ]
    },
    {
      "cell_type": "markdown",
      "metadata": {
        "id": "dfbs1Jri8ZbY"
      },
      "source": [
        "---\n",
        "3 - Faça um algoritmo que leia uma medida em pés, faça as conversões e exiba o resultado equivalente em polegadas, jardas e milhas.\n",
        "\n",
        "Entrada:\n",
        "\n",
        "1\n",
        "\n",
        "Saída:\n",
        "\n",
        "Jardas: 0,33333344\n",
        "\n",
        "Polegadas: 12\n",
        "\n",
        "Milhas: 0,000189394\n",
        "\n",
        "\n",
        "\n",
        "\n",
        "\n"
      ]
    },
    {
      "cell_type": "code",
      "metadata": {
        "id": "FOKhScb2uSaO",
        "colab": {
          "base_uri": "https://localhost:8080/"
        },
        "outputId": "2e44d4f0-d847-41e2-fefb-cab1d25e6d8d"
      },
      "source": [
        "pes = float(input(\"Informe a medida em pés: \"))\n",
        "\n",
        "polegadas = pes * 12\n",
        "jardas = pes/3\n",
        "milhas = 1/5280\n",
        "\n",
        "print(f\"\\nJardas: {jardas}\\nPolegadas: {polegadas}\\nMilhas: {milhas}\")"
      ],
      "execution_count": null,
      "outputs": [
        {
          "output_type": "stream",
          "text": [
            "Informe a medida em pés: 1\n",
            "\n",
            "Jardas: 0.3333333333333333\n",
            "Polegadas: 12.0\n",
            "Milhas: 0.0001893939393939394\n"
          ],
          "name": "stdout"
        }
      ]
    },
    {
      "cell_type": "markdown",
      "metadata": {
        "id": "6ufaKfb7xTWP"
      },
      "source": [
        "---\n",
        "4 - O preço final de um carro novo é a soma do preço de fábrica, do lucro do distribuidor e dos impostos (ambos aplicados ao preço de fábrica). Faça um algoritmo que leia o preço de fábrica de um veículo, o percentual de lucro do distribuidor e o percentual de impostos, calcule e mostre:\n",
        "\n",
        "Entrada:\n",
        "\n",
        "50000,00\n",
        "\n",
        "10\n",
        "\n",
        "10\n",
        "\n",
        "\n",
        "(a) o valor (em reais) correspondente ao lucro do distribuidor;\n",
        "\n",
        "Saída: 5000,00\n",
        "\n",
        "(b) o valor (em reais) correspondente aos impostos;\n",
        "\n",
        "Saída: 5000,00\n",
        "\n",
        "(c) o preço final do veículo (em reais).\n",
        "\n",
        "Saída: 60000,00"
      ]
    },
    {
      "cell_type": "code",
      "metadata": {
        "id": "Cvo8lGnPufF_",
        "colab": {
          "base_uri": "https://localhost:8080/"
        },
        "outputId": "5d646df4-47ba-4e31-f41f-aa8365c48ac1"
      },
      "source": [
        "preco_fabrica = float(input(\"Informe o preço de fábrica do veículo: \"))\n",
        "perc_lucro = float(input(\"Informe o percentual de lucro do distribuidor: \"))\n",
        "perc_impostos = float(input(\"Informe o percentual de impostos: \"))\n",
        "\n",
        "lucro = (preco_fabrica * perc_lucro)/100\n",
        "impostos = (preco_fabrica * perc_impostos)/100\n",
        "preco_final = preco_fabrica + lucro + impostos\n",
        "\n",
        "print(f\"\\n(a) o valor (em reais) correspondente ao lucro do distribuidor: {round(lucro, 2)}\")\n",
        "print(f\"\\n(b) o valor (em reais) correspondente aos impostos: {round(impostos, 2)}\")\n",
        "print(f\"\\n(c) o preço final do veículo (em reais): {round(preco_final, 2)}\")"
      ],
      "execution_count": null,
      "outputs": [
        {
          "output_type": "stream",
          "text": [
            "Informe o preço de fábrica do veículo: 50000\n",
            "Informe o percentual de lucro do distribuidor: 10\n",
            "Informe o percentual de impostos: 10\n",
            "\n",
            "(a) o valor (em reais) correspondente ao lucro do distribuidor: 5000.0\n",
            "\n",
            "(b) o valor (em reais) correspondente aos impostos: 5000.0\n",
            "\n",
            "(c) o preço final do veículo (em reais): 60000.0\n"
          ],
          "name": "stdout"
        }
      ]
    },
    {
      "cell_type": "markdown",
      "metadata": {
        "id": "SI7BPrXdtV4q"
      },
      "source": [
        "---\n",
        "5 (Desafio) - Faça um algoritmo que leia o preço de um produto e o converta para inteiro. Em seguida, calcule quantas cédulas de 100, 50, 20, 10, 5, 2 e moedas de 1 são necessárias para pagar por este produto com o menor número de cédulas/moedas possível.\n",
        "\n",
        "Entrada:\n",
        "\n",
        "132,00\n",
        "\n",
        "Saída:\n",
        "\n",
        "*   Nota(s) de 100: 1\n",
        "*   Nota(s) de 20: 1\n",
        "*   Nota(s) de 10: 1\n",
        "*   Nota(s) de 2: 1\n",
        "\n",
        "\n"
      ]
    },
    {
      "cell_type": "code",
      "metadata": {
        "id": "jpJSB-Xc3Q-J",
        "colab": {
          "base_uri": "https://localhost:8080/"
        },
        "outputId": "2030b6ea-de8a-469c-fcac-cd13ce669ec6"
      },
      "source": [
        "preco = float(input(\"Informe o preço do produto: \"))\n",
        "\n",
        "notas_100 = preco//100\n",
        "if (notas_100 >= 1):\n",
        "  print(f\"\\nNota(s) de 100: {notas_100}\")\n",
        "  preco -= 100 * notas_100\n",
        "\n",
        "notas_20 = preco//20\n",
        "if (notas_20 >= 1):\n",
        "  print(f\"\\nNota(s) de 20: {notas_20}\")\n",
        "  preco -= 20 * notas_20\n",
        "\n",
        "notas_10 = preco//10\n",
        "if (notas_10 >= 1):\n",
        "  print(f\"\\nNota(s) de 10: {notas_10}\")\n",
        "  preco -= 10 * notas_10\n",
        "\n",
        "notas_2 = preco//2\n",
        "if (notas_2 >= 1):\n",
        "  print(f\"\\nNota(s) de 2: {notas_2}\")\n",
        "  preco -= 2 * notas_2"
      ],
      "execution_count": null,
      "outputs": [
        {
          "output_type": "stream",
          "text": [
            "Informe o preço do produto: 150\n",
            "\n",
            "Nota(s) de 100: 1.0\n",
            "\n",
            "Nota(s) de 20: 2.0\n",
            "\n",
            "Nota(s) de 10: 1.0\n"
          ],
          "name": "stdout"
        }
      ]
    }
  ]
}